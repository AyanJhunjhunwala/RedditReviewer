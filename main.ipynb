{
 "cells": [
  {
   "cell_type": "code",
   "execution_count": 4,
   "metadata": {},
   "outputs": [],
   "source": [
    "import requests\n",
    "import json\n",
    "from bs4 import BeautifulSoup\n",
    "from datetime import datetime"
   ]
  },
  {
   "cell_type": "code",
   "execution_count": 6,
   "metadata": {},
   "outputs": [],
   "source": [
    "def scrape_reddit_topics(search_query):\n",
    "    # Use search endpoint with query\n",
    "    url = f\"https://www.reddit.com/search.json?q={search_query}&sort=relevance\"\n",
    "    \n",
    "    headers = {\n",
    "        'User-Agent': 'Mozilla/5.0 (Windows NT 10.0; Win64; x64) AppleWebKit/537.36 (KHTML, like Gecko) Chrome/123.0.0.0 Safari/537.3'\n",
    "    }\n",
    "    try:\n",
    "        # Get search results\n",
    "        response = requests.get(url, headers=headers)\n",
    "        data = response.json()\n",
    "        \n",
    "        posts_with_comments = []\n",
    "        \n",
    "        for post in data['data']['children']:\n",
    "            post_data = post['data']\n",
    "            \n",
    "            # Get comments for this post\n",
    "            comments_url = f\"https://www.reddit.com{post_data['permalink']}.json\"\n",
    "            comments_response = requests.get(comments_url, headers=headers)\n",
    "            comments_data = comments_response.json()\n",
    "            \n",
    "            # Extract comments\n",
    "            comments = []\n",
    "            if len(comments_data) > 1:  # Check if there are comments\n",
    "                for comment in comments_data[1]['data']['children']:\n",
    "                    if 'body' in comment['data']:\n",
    "                        comments.append({\n",
    "                            'author': comment['data'].get('author', '[deleted]'),\n",
    "                            'body': comment['data']['body'],\n",
    "                            'score': comment['data'].get('score', 0),\n",
    "                            'created_utc': datetime.fromtimestamp(comment['data']['created_utc']).isoformat()\n",
    "                        })\n",
    "            \n",
    "            # Combine post and comments data\n",
    "            posts_with_comments.append({\n",
    "                'title': post_data['title'],\n",
    "                'author': post_data['author'],\n",
    "                'score': post_data['score'],\n",
    "                'url': post_data['url'],\n",
    "                'created_utc': datetime.fromtimestamp(post_data['created_utc']).isoformat(),\n",
    "                'num_comments': post_data['num_comments'],\n",
    "                'selftext': post_data.get('selftext', ''),\n",
    "                'comments': comments\n",
    "            })\n",
    "        \n",
    "        # Save to JSON file\n",
    "        with open(f'{search_query.replace(\" \", \"_\")}_results.json', 'w', encoding='utf-8') as f:\n",
    "            json.dump(posts_with_comments, f, indent=2, ensure_ascii=False)\n",
    "            \n",
    "        return posts_with_comments\n",
    "        \n",
    "    except Exception as e:\n",
    "        print(f\"Error occurred: {str(e)}\")\n",
    "        return None"
   ]
  },
  {
   "cell_type": "code",
   "execution_count": 7,
   "metadata": {},
   "outputs": [
    {
     "name": "stdout",
     "output_type": "stream",
     "text": [
      "Hi! Welcome to the Reddit Web Scraper!\n"
     ]
    }
   ],
   "source": [
    "#webscraping particular subreddits\n",
    "print(\"Hi! Welcome to the Reddit Web Scraper!\")\n",
    "subreddit = input(\"Please enter the subreddit you would like to scrape: \")\n",
    "posts = scrape_reddit_topics(subreddit)"
   ]
  }
 ],
 "metadata": {
  "kernelspec": {
   "display_name": "Python 3",
   "language": "python",
   "name": "python3"
  },
  "language_info": {
   "codemirror_mode": {
    "name": "ipython",
    "version": 3
   },
   "file_extension": ".py",
   "mimetype": "text/x-python",
   "name": "python",
   "nbconvert_exporter": "python",
   "pygments_lexer": "ipython3",
   "version": "3.12.1"
  }
 },
 "nbformat": 4,
 "nbformat_minor": 2
}
