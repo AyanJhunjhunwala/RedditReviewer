{
 "cells": [
  {
   "cell_type": "code",
   "execution_count": 25,
   "metadata": {},
   "outputs": [],
   "source": [
    "import requests\n",
    "import json\n",
    "from bs4 import BeautifulSoup\n",
    "from datetime import datetime\n",
    "from transformers import pipeline\n",
    "import matplotlib.pyplot as plt"
   ]
  },
  {
   "cell_type": "code",
   "execution_count": 26,
   "metadata": {},
   "outputs": [],
   "source": [
    "def scrape_reddit_topics(search_query):\n",
    "    # Use search endpoint with query\n",
    "    url = f\"https://www.reddit.com/search.json?q={search_query}&sort=relevance\"\n",
    "    \n",
    "    headers = {\n",
    "        'User-Agent': 'Mozilla/5.0 (Windows NT 10.0; Win64; x64) AppleWebKit/537.36 (KHTML, like Gecko) Chrome/123.0.0.0 Safari/537.3'\n",
    "    }\n",
    "    try:\n",
    "        # Get search results\n",
    "        response = requests.get(url, headers=headers)\n",
    "        data = response.json()\n",
    "        \n",
    "        posts_with_comments = []\n",
    "        \n",
    "        for post in data['data']['children']:\n",
    "            post_data = post['data']\n",
    "            \n",
    "            # Get comments for this post\n",
    "            comments_url = f\"https://www.reddit.com{post_data['permalink']}.json\"\n",
    "            comments_response = requests.get(comments_url, headers=headers)\n",
    "            comments_data = comments_response.json()\n",
    "            \n",
    "            # Extract comments\n",
    "            comments = []\n",
    "            if len(comments_data) > 1:  # Check if there are comments\n",
    "                for comment in comments_data[1]['data']['children']:\n",
    "                    if 'body' in comment['data']:\n",
    "                        comments.append({\n",
    "                            'author': comment['data'].get('author', '[deleted]'),\n",
    "                            'body': comment['data']['body'],\n",
    "                            'score': comment['data'].get('score', 0),\n",
    "                            'created_utc': datetime.fromtimestamp(comment['data']['created_utc']).isoformat()\n",
    "                        })\n",
    "            \n",
    "            # Combine post and comments data\n",
    "            posts_with_comments.append({\n",
    "                'title': post_data['title'],\n",
    "                'author': post_data['author'],\n",
    "                'score': post_data['score'],\n",
    "                'url': post_data['url'],\n",
    "                'created_utc': datetime.fromtimestamp(post_data['created_utc']).isoformat(),\n",
    "                'num_comments': post_data['num_comments'],\n",
    "                'selftext': post_data.get('selftext', ''),\n",
    "                'comments': comments\n",
    "            })\n",
    "        \n",
    "        # Save to JSON file\n",
    "            \n",
    "        return posts_with_comments\n",
    "        \n",
    "    except Exception as e:\n",
    "        print(f\"Error occurred: {str(e)}\")\n",
    "        return None"
   ]
  },
  {
   "cell_type": "code",
   "execution_count": 27,
   "metadata": {},
   "outputs": [
    {
     "name": "stdout",
     "output_type": "stream",
     "text": [
      "Hi! Welcome to the Reddit Web Scraper!\n"
     ]
    }
   ],
   "source": [
    "#webscraping particular subreddits\n",
    "print(\"Hi! Welcome to the Reddit Web Scraper!\")\n",
    "subreddit = input(\"Please enter the subreddit you would like to scrape: \")\n",
    "posts = scrape_reddit_topics(subreddit)"
   ]
  },
  {
   "cell_type": "code",
   "execution_count": 29,
   "metadata": {},
   "outputs": [],
   "source": [
    "def extract_posts_and_comments(json_obj):\n",
    "    texts = []\n",
    "    for entry in json_obj:\n",
    "        # Extract post content (selftext)\n",
    "        if 'selftext' in entry and entry['selftext']:\n",
    "            texts.append(entry['selftext'])\n",
    "        \n",
    "        # Extract comments\n",
    "        if 'comments' in entry:\n",
    "            for comment in entry['comments']:\n",
    "                if 'body' in comment:\n",
    "                    texts.append(comment['body'])\n",
    "    return texts\n",
    "\n",
    "posts_and_comments = extract_posts_and_comments(posts)\n",
    "\n"
   ]
  },
  {
   "cell_type": "code",
   "execution_count": 30,
   "metadata": {},
   "outputs": [
    {
     "name": "stderr",
     "output_type": "stream",
     "text": [
      "All PyTorch model weights were used when initializing TFDistilBertForSequenceClassification.\n",
      "\n",
      "All the weights of TFDistilBertForSequenceClassification were initialized from the PyTorch model.\n",
      "If your task is similar to the task the model of the checkpoint was trained on, you can already use TFDistilBertForSequenceClassification for predictions without further training.\n",
      "Device set to use 0\n"
     ]
    }
   ],
   "source": [
    "#NLP stuff \n",
    "classifier = pipeline('sentiment-analysis', model='tabularisai/multilingual-sentiment-analysis')\n",
    "all_results = []\n",
    "for text in posts_and_comments:\n",
    "    text=text[:512]\n",
    "    result = classifier(text)\n",
    "    all_results.append(result)\n",
    "#labels are very positive, positive, neutral, negative, very negative"
   ]
  },
  {
   "cell_type": "code",
   "execution_count": 38,
   "metadata": {},
   "outputs": [
    {
     "name": "stdout",
     "output_type": "stream",
     "text": [
      "Very Positive: 133\n"
     ]
    }
   ],
   "source": [
    "\n",
    "very_positive = 0\n",
    "positive = 0\n",
    "neutral = 0\n",
    "negative = 0\n",
    "very_negative = 0\n",
    "\n",
    "for result in all_results:\n",
    "    if result[0]['label'] == 'Very Positive':\n",
    "        very_positive += 1\n",
    "    elif result[0]['label'] == 'Positive':\n",
    "        positive += 1\n",
    "    elif result[0]['label'] == 'Neutral':\n",
    "        neutral += 1\n",
    "    elif result[0]['label'] == 'Negative':\n",
    "        negative += 1\n",
    "    elif result[0]['label'] == 'Very Negative':\n",
    "        very_negative += 1\n",
    "\n"
   ]
  },
  {
   "cell_type": "code",
   "execution_count": 39,
   "metadata": {},
   "outputs": [
    {
     "data": {
      "image/png": "[encoded data removed]",
      "text/plain": [
       "<Figure size 640x480 with 1 Axes>"
      ]
     },
     "metadata": {},
     "output_type": "display_data"
    }
   ],
   "source": [
    "#plotting the data\n",
    "\n",
    "labels = ['Very Positive', 'Positive', 'Neutral', 'Negative', 'Very Negative']\n",
    "sizes = [very_positive, positive, neutral, negative, very_negative]\n",
    "colors = ['#ff9999','#66b3ff','#99ff99','#ffcc99','#c2c2f0']\n",
    "fig1, ax1 = plt.subplots()\n",
    "ax1.pie(sizes, colors = colors, labels=labels, autopct='%1.1f%%', startangle=90)\n",
    "ax1.axis('equal')\n",
    "plt.title('Sentiment Analysis of Reddit Posts and Comments')\n",
    "plt.show()"
   ]
  }
 ],
 "metadata": {
  "kernelspec": {
   "display_name": "Python 3",
   "language": "python",
   "name": "python3"
  },
  "language_info": {
   "codemirror_mode": {
    "name": "ipython",
    "version": 3
   },
   "file_extension": ".py",
   "mimetype": "text/x-python",
   "name": "python",
   "nbconvert_exporter": "python",
   "pygments_lexer": "ipython3",
   "version": "3.12.1"
  }
 },
 "nbformat": 4,
 "nbformat_minor": 2
}
